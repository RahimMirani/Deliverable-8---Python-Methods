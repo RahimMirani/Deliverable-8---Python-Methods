{
  "nbformat": 4,
  "nbformat_minor": 0,
  "metadata": {
    "colab": {
      "provenance": []
    },
    "kernelspec": {
      "name": "python3",
      "display_name": "Python 3"
    },
    "language_info": {
      "name": "python"
    }
  },
  "cells": [
    {
      "cell_type": "code",
      "execution_count": 24,
      "metadata": {
        "colab": {
          "base_uri": "https://localhost:8080/"
        },
        "id": "y_4RcjeC1tL2",
        "outputId": "f261e6dd-6eef-4dba-d66d-01e6b82f2f4b"
      },
      "outputs": [
        {
          "output_type": "stream",
          "name": "stdout",
          "text": [
            "Enter integer between 5 & 15: 7\n",
            " \n",
            "The intergers are:  [16, 43, 31, 45, 48, 23, 42]\n",
            "Sum of integers are:  248\n"
          ]
        }
      ],
      "source": [
        "import random\n",
        "\n",
        "def function_1(length): \n",
        "  return [random.randint(10, 50) for _ in range(length)]\n",
        "  \n",
        "\n",
        "def function_2(x): \n",
        "  return sum(x)\n",
        "\n",
        "number = int(input(\"Enter integer between 5 & 15: \"))\n",
        "print(\" \")\n",
        "if number >=5 and number <= 15:\n",
        "  function_1(number)\n",
        "  my_list = function_1(number)\n",
        "  print(\"The intergers are: \",  my_list) \n",
        "\n",
        "  function_2(my_list)\n",
        "  print(\"Sum of integers are: \",  function_2(my_list))\n",
        "\n",
        "else: \n",
        "  print(\"'Invalid entry' Please enter a integer between 5 & 15\")\n",
        "\n"
      ]
    }
  ]
}